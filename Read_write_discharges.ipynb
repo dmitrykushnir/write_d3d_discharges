{
 "cells": [
  {
   "cell_type": "code",
   "execution_count": 1,
   "metadata": {
    "collapsed": true
   },
   "outputs": [],
   "source": [
    "# Рисовать графики сразу же\n",
    "%matplotlib inline\n",
    "\n",
    "import pandas as pd\n",
    "import numpy as np\n",
    "\n",
    "import os\n",
    "\n",
    "import matplotlib.pyplot as plt\n",
    "\n",
    "from Get_model_times import times\n",
    "\n",
    "plt.rc('xtick', labelsize=14) \n",
    "plt.rc('ytick', labelsize=14) \n",
    "\n",
    "plt.style.use('ggplot')  # Красивые графики\n",
    "plt.rcParams['figure.figsize'] = (15, 5)  # Размер картинок\n",
    "plt.rc('font', family = 'Arial')"
   ]
  },
  {
   "cell_type": "markdown",
   "metadata": {},
   "source": [
    "### Рассчитываем суточный сток всех рек"
   ]
  },
  {
   "cell_type": "markdown",
   "metadata": {},
   "source": [
    "***Загружаем .xlsx-файл со среднемесячными данными стока рек***"
   ]
  },
  {
   "cell_type": "code",
   "execution_count": 2,
   "metadata": {
    "collapsed": false,
    "scrolled": true
   },
   "outputs": [
    {
     "data": {
      "text/html": [
       "<div>\n",
       "<table border=\"1\" class=\"dataframe\">\n",
       "  <thead>\n",
       "    <tr style=\"text-align: right;\">\n",
       "      <th></th>\n",
       "      <th>P1 - flux/discharge rate</th>\n",
       "    </tr>\n",
       "    <tr>\n",
       "      <th>date and time</th>\n",
       "      <th></th>\n",
       "    </tr>\n",
       "  </thead>\n",
       "  <tbody>\n",
       "    <tr>\n",
       "      <th>2025-01-01 12:00:00</th>\n",
       "      <td>0.030</td>\n",
       "    </tr>\n",
       "    <tr>\n",
       "      <th>2025-02-01 12:00:00</th>\n",
       "      <td>0.028</td>\n",
       "    </tr>\n",
       "    <tr>\n",
       "      <th>2025-03-01 12:00:00</th>\n",
       "      <td>0.027</td>\n",
       "    </tr>\n",
       "    <tr>\n",
       "      <th>2025-04-01 12:00:00</th>\n",
       "      <td>0.034</td>\n",
       "    </tr>\n",
       "    <tr>\n",
       "      <th>2025-05-01 12:00:00</th>\n",
       "      <td>0.038</td>\n",
       "    </tr>\n",
       "  </tbody>\n",
       "</table>\n",
       "</div>"
      ],
      "text/plain": [
       "                     P1 - flux/discharge rate\n",
       "date and time                                \n",
       "2025-01-01 12:00:00                     0.030\n",
       "2025-02-01 12:00:00                     0.028\n",
       "2025-03-01 12:00:00                     0.027\n",
       "2025-04-01 12:00:00                     0.034\n",
       "2025-05-01 12:00:00                     0.038"
      ]
     },
     "execution_count": 2,
     "metadata": {},
     "output_type": "execute_result"
    }
   ],
   "source": [
    "Cur_dir = os.getcwd()\n",
    "Monthly_Flux = pd.read_excel(Cur_dir + r'\\input_data\\Dis_Var_1.xlsx',\n",
    "                             index_col = 0)\n",
    "Monthly_Flux.head()"
   ]
  },
  {
   "cell_type": "markdown",
   "metadata": {},
   "source": [
    "***Конвертируем среднемесячные данные в суточные значения***"
   ]
  },
  {
   "cell_type": "code",
   "execution_count": 3,
   "metadata": {
    "collapsed": true,
    "scrolled": true
   },
   "outputs": [],
   "source": [
    "Daily_flux = Monthly_Flux.resample('D').sum()\n",
    "Daily_flux1 = Daily_flux.reindex(pd.date_range(start='2025-01-01',\n",
    "                                               end='2025-12-31',\n",
    "                                               freq='1D'))\n",
    "Daily_Flux2 = Daily_flux1.fillna(method = 'ffill')"
   ]
  },
  {
   "cell_type": "code",
   "execution_count": 4,
   "metadata": {
    "collapsed": false,
    "scrolled": true
   },
   "outputs": [
    {
     "data": {
      "text/html": [
       "<div>\n",
       "<table border=\"1\" class=\"dataframe\">\n",
       "  <thead>\n",
       "    <tr style=\"text-align: right;\">\n",
       "      <th></th>\n",
       "      <th>P1 - flux/discharge rate</th>\n",
       "    </tr>\n",
       "  </thead>\n",
       "  <tbody>\n",
       "    <tr>\n",
       "      <th>2025-01-01</th>\n",
       "      <td>0.03</td>\n",
       "    </tr>\n",
       "    <tr>\n",
       "      <th>2025-01-02</th>\n",
       "      <td>0.03</td>\n",
       "    </tr>\n",
       "    <tr>\n",
       "      <th>2025-01-03</th>\n",
       "      <td>0.03</td>\n",
       "    </tr>\n",
       "    <tr>\n",
       "      <th>2025-01-04</th>\n",
       "      <td>0.03</td>\n",
       "    </tr>\n",
       "    <tr>\n",
       "      <th>2025-01-05</th>\n",
       "      <td>0.03</td>\n",
       "    </tr>\n",
       "  </tbody>\n",
       "</table>\n",
       "</div>"
      ],
      "text/plain": [
       "            P1 - flux/discharge rate\n",
       "2025-01-01                      0.03\n",
       "2025-01-02                      0.03\n",
       "2025-01-03                      0.03\n",
       "2025-01-04                      0.03\n",
       "2025-01-05                      0.03"
      ]
     },
     "execution_count": 4,
     "metadata": {},
     "output_type": "execute_result"
    }
   ],
   "source": [
    "Daily_Flux2.head()"
   ]
  },
  {
   "cell_type": "markdown",
   "metadata": {},
   "source": [
    "***Сохраняем суточный сток в .xlsx - файл***"
   ]
  },
  {
   "cell_type": "code",
   "execution_count": 5,
   "metadata": {
    "collapsed": true
   },
   "outputs": [],
   "source": [
    "Daily_Flux2.to_excel(Cur_dir + r'\\input_data\\Dis_Var_1_daily.xlsx')"
   ]
  },
  {
   "cell_type": "markdown",
   "metadata": {},
   "source": [
    "***Возвращаем имена столбцов фрейма данных суточного стока***"
   ]
  },
  {
   "cell_type": "code",
   "execution_count": 5,
   "metadata": {
    "collapsed": false
   },
   "outputs": [
    {
     "data": {
      "text/plain": [
       "Index(['P1 - flux/discharge rate'], dtype='object')"
      ]
     },
     "execution_count": 5,
     "metadata": {},
     "output_type": "execute_result"
    }
   ],
   "source": [
    "Daily_Flux2.columns"
   ]
  },
  {
   "cell_type": "markdown",
   "metadata": {},
   "source": [
    "***Конвертируем столбец фрейма в одномерный numpy-массив***"
   ]
  },
  {
   "cell_type": "code",
   "execution_count": 6,
   "metadata": {
    "collapsed": false,
    "scrolled": true
   },
   "outputs": [
    {
     "data": {
      "text/plain": [
       "array([[0.03],\n",
       "       [0.03],\n",
       "       [0.03],\n",
       "       [0.03],\n",
       "       [0.03]])"
      ]
     },
     "execution_count": 6,
     "metadata": {},
     "output_type": "execute_result"
    }
   ],
   "source": [
    "Discharge = np.c_[Daily_Flux2.values]\n",
    "Discharge[:5]"
   ]
  },
  {
   "cell_type": "markdown",
   "metadata": {},
   "source": [
    "### Рассчитываем соленость речной и морской воды"
   ]
  },
  {
   "cell_type": "markdown",
   "metadata": {},
   "source": [
    "***Соленость речной воды для одного притока рассчитывается по следующей формуле:***\n",
    "\n",
    "\n"
   ]
  },
  {
   "cell_type": "markdown",
   "metadata": {},
   "source": [
    "${\\large S_{river}= 1.218 * Q_{river}^{-0.34}}$"
   ]
  },
  {
   "cell_type": "code",
   "execution_count": 7,
   "metadata": {
    "collapsed": false,
    "scrolled": true
   },
   "outputs": [
    {
     "data": {
      "text/plain": [
       "array([[4.01260178],\n",
       "       [4.01260178],\n",
       "       [4.01260178],\n",
       "       [4.01260178],\n",
       "       [4.01260178]])"
      ]
     },
     "execution_count": 7,
     "metadata": {},
     "output_type": "execute_result"
    }
   ],
   "source": [
    "Salin_river = 1.218 * (np.c_[Discharge] **(-0.34))\n",
    "Salin_river[Salin_river == np.inf] = 0  # В случае отсутствия стока, принимаем значения солености равными 0\n",
    "Salin_river[:5]"
   ]
  },
  {
   "cell_type": "markdown",
   "metadata": {},
   "source": [
    "***Соленость морской воды***"
   ]
  },
  {
   "cell_type": "code",
   "execution_count": 8,
   "metadata": {
    "collapsed": false,
    "scrolled": true
   },
   "outputs": [
    {
     "data": {
      "text/html": [
       "<div>\n",
       "<table border=\"1\" class=\"dataframe\">\n",
       "  <thead>\n",
       "    <tr style=\"text-align: right;\">\n",
       "      <th></th>\n",
       "      <th>T2 - Salinity</th>\n",
       "    </tr>\n",
       "    <tr>\n",
       "      <th>date and time</th>\n",
       "      <th></th>\n",
       "    </tr>\n",
       "  </thead>\n",
       "  <tbody>\n",
       "    <tr>\n",
       "      <th>2025-01-01 12:00:00</th>\n",
       "      <td>14.61</td>\n",
       "    </tr>\n",
       "    <tr>\n",
       "      <th>2025-02-01 12:00:00</th>\n",
       "      <td>14.42</td>\n",
       "    </tr>\n",
       "    <tr>\n",
       "      <th>2025-03-01 12:00:00</th>\n",
       "      <td>14.17</td>\n",
       "    </tr>\n",
       "    <tr>\n",
       "      <th>2025-04-01 12:00:00</th>\n",
       "      <td>15.25</td>\n",
       "    </tr>\n",
       "    <tr>\n",
       "      <th>2025-05-01 12:00:00</th>\n",
       "      <td>0.00</td>\n",
       "    </tr>\n",
       "  </tbody>\n",
       "</table>\n",
       "</div>"
      ],
      "text/plain": [
       "                     T2 - Salinity\n",
       "date and time                     \n",
       "2025-01-01 12:00:00          14.61\n",
       "2025-02-01 12:00:00          14.42\n",
       "2025-03-01 12:00:00          14.17\n",
       "2025-04-01 12:00:00          15.25\n",
       "2025-05-01 12:00:00           0.00"
      ]
     },
     "execution_count": 8,
     "metadata": {},
     "output_type": "execute_result"
    }
   ],
   "source": [
    "Table_salin_sea = pd.read_excel(Cur_dir + r'\\input_data\\Salin_sea_water.xlsx',\n",
    "                                index_col = 0)\n",
    "Table_salin_sea.head()"
   ]
  },
  {
   "cell_type": "code",
   "execution_count": 9,
   "metadata": {
    "collapsed": false,
    "scrolled": true
   },
   "outputs": [
    {
     "data": {
      "text/html": [
       "<div>\n",
       "<table border=\"1\" class=\"dataframe\">\n",
       "  <thead>\n",
       "    <tr style=\"text-align: right;\">\n",
       "      <th></th>\n",
       "      <th>T2 - Salinity</th>\n",
       "    </tr>\n",
       "  </thead>\n",
       "  <tbody>\n",
       "    <tr>\n",
       "      <th>2025-01-01</th>\n",
       "      <td>14.61</td>\n",
       "    </tr>\n",
       "    <tr>\n",
       "      <th>2025-01-02</th>\n",
       "      <td>14.61</td>\n",
       "    </tr>\n",
       "    <tr>\n",
       "      <th>2025-01-03</th>\n",
       "      <td>14.61</td>\n",
       "    </tr>\n",
       "    <tr>\n",
       "      <th>2025-01-04</th>\n",
       "      <td>14.61</td>\n",
       "    </tr>\n",
       "    <tr>\n",
       "      <th>2025-01-05</th>\n",
       "      <td>14.61</td>\n",
       "    </tr>\n",
       "  </tbody>\n",
       "</table>\n",
       "</div>"
      ],
      "text/plain": [
       "            T2 - Salinity\n",
       "2025-01-01          14.61\n",
       "2025-01-02          14.61\n",
       "2025-01-03          14.61\n",
       "2025-01-04          14.61\n",
       "2025-01-05          14.61"
      ]
     },
     "execution_count": 9,
     "metadata": {},
     "output_type": "execute_result"
    }
   ],
   "source": [
    "Salin_sea = Table_salin_sea.resample('D').sum()\n",
    "Salin_sea1 = Salin_sea.reindex(pd.date_range(start='2025-01-01',\n",
    "                                               end='2025-12-31',\n",
    "                                               freq='1D'))\n",
    "Salin_sea2 = Salin_sea1.fillna(method = 'ffill')\n",
    "Salin_sea2.head()"
   ]
  },
  {
   "cell_type": "markdown",
   "metadata": {},
   "source": [
    "### Рассчитываем температуру речной воды (для всего года)"
   ]
  },
  {
   "cell_type": "markdown",
   "metadata": {},
   "source": [
    "***Загружаем данные о температуре воздуха во фрейм***"
   ]
  },
  {
   "cell_type": "code",
   "execution_count": 10,
   "metadata": {
    "collapsed": false,
    "scrolled": true
   },
   "outputs": [
    {
     "data": {
      "text/html": [
       "<div>\n",
       "<table border=\"1\" class=\"dataframe\">\n",
       "  <thead>\n",
       "    <tr style=\"text-align: right;\">\n",
       "      <th></th>\n",
       "      <th>Tемп-ра, ºС</th>\n",
       "    </tr>\n",
       "  </thead>\n",
       "  <tbody>\n",
       "    <tr>\n",
       "      <th>2025-01-01</th>\n",
       "      <td>4.708917</td>\n",
       "    </tr>\n",
       "    <tr>\n",
       "      <th>2025-01-02</th>\n",
       "      <td>1.028772</td>\n",
       "    </tr>\n",
       "    <tr>\n",
       "      <th>2025-01-03</th>\n",
       "      <td>-2.855933</td>\n",
       "    </tr>\n",
       "    <tr>\n",
       "      <th>2025-01-04</th>\n",
       "      <td>-0.769141</td>\n",
       "    </tr>\n",
       "    <tr>\n",
       "      <th>2025-01-05</th>\n",
       "      <td>0.501886</td>\n",
       "    </tr>\n",
       "  </tbody>\n",
       "</table>\n",
       "</div>"
      ],
      "text/plain": [
       "            Tемп-ра, ºС\n",
       "2025-01-01     4.708917\n",
       "2025-01-02     1.028772\n",
       "2025-01-03    -2.855933\n",
       "2025-01-04    -0.769141\n",
       "2025-01-05     0.501886"
      ]
     },
     "execution_count": 10,
     "metadata": {},
     "output_type": "execute_result"
    }
   ],
   "source": [
    "Tabletemp = pd.read_excel(Cur_dir + r'\\input_data\\Копия_Метео_сут_период1990-2030_NEW.xls',\n",
    "                          sheet_name = '2025',\n",
    "                          header = 1,\n",
    "                          index_col = 0,\n",
    "                          use_cols = \"A, B\",\n",
    "                          convert_float = True)\n",
    "Tabletemp.head()"
   ]
  },
  {
   "cell_type": "markdown",
   "metadata": {},
   "source": [
    "***Рассчитываем температуру воды согласно следующей формуле:***"
   ]
  },
  {
   "cell_type": "markdown",
   "metadata": {},
   "source": [
    "${\\large T_{river} = 0.62 * T_{air} +4.4}$"
   ]
  },
  {
   "cell_type": "code",
   "execution_count": 11,
   "metadata": {
    "collapsed": false
   },
   "outputs": [
    {
     "data": {
      "text/plain": [
       "array([[7.31952869],\n",
       "       [5.03783862],\n",
       "       [2.62932178],\n",
       "       [3.92313281],\n",
       "       [4.71116931]])"
      ]
     },
     "execution_count": 11,
     "metadata": {},
     "output_type": "execute_result"
    }
   ],
   "source": [
    "Temp = Tabletemp.values   #Конвертируем в numpy-массив\n",
    "Temp_river = 0.62 * Temp + 4.4\n",
    "Temp_river[Temp_river < 0] = 0 #Заменяем отрицательные значения температуры на 0\n",
    "Temp_river[:5]"
   ]
  },
  {
   "cell_type": "markdown",
   "metadata": {},
   "source": [
    "### Генерируем входящий файл с данными о расходах для модели"
   ]
  },
  {
   "cell_type": "markdown",
   "metadata": {},
   "source": [
    "***Вызываем функцию формирования массива дат для входящего файла***"
   ]
  },
  {
   "cell_type": "code",
   "execution_count": 12,
   "metadata": {
    "collapsed": false
   },
   "outputs": [
    {
     "data": {
      "text/plain": [
       "365"
      ]
     },
     "execution_count": 12,
     "metadata": {},
     "output_type": "execute_result"
    }
   ],
   "source": [
    "timedata = times(720, 1440, 365)\n",
    "timedata.size"
   ]
  },
  {
   "cell_type": "markdown",
   "metadata": {},
   "source": [
    "***Сохраняем все данные в ASCII-файл***"
   ]
  },
  {
   "cell_type": "code",
   "execution_count": 13,
   "metadata": {
    "collapsed": true
   },
   "outputs": [],
   "source": [
    "f_handle = open(Cur_dir + r'\\input_data\\dis_data.dis', 'ab')\n",
    "\n",
    "np.savetxt(f_handle, np.c_[timedata, Discharge, Salin_river, Temp_river],\n",
    "           fmt='%.7e', delimiter=' ', newline='\\n',\n",
    "           header= '\\n'.join([\"table-name           'Discharge : 1'\", \n",
    "                              \"contents             'regular   '\", \n",
    "                              \"location             'P1             '\", \n",
    "                              \"time-function        'non-equidistant'\", \n",
    "                              \"reference-time       20250101\", \n",
    "                              \"time-unit            'minutes'\", \n",
    "                              \"interpolation        'linear'\", \n",
    "                              \"parameter            'time                '                     unit '[min]'\", \n",
    "                              \"parameter            'flux/discharge rate '                     unit '[m3/s]'\", \n",
    "                              \"parameter            'Salinity            '                     unit '[ppt]'\", \n",
    "                              \"parameter            'Temperature         '                     unit '[°C]'\", \n",
    "                              \"records-in-table     365\"]),\n",
    "           comments='')\n",
    "f_handle.close()"
   ]
  }
 ],
 "metadata": {
  "kernelspec": {
   "display_name": "Python 3",
   "language": "python",
   "name": "python3"
  },
  "language_info": {
   "codemirror_mode": {
    "name": "ipython",
    "version": 3
   },
   "file_extension": ".py",
   "mimetype": "text/x-python",
   "name": "python",
   "nbconvert_exporter": "python",
   "pygments_lexer": "ipython3",
   "version": "3.4.4"
  }
 },
 "nbformat": 4,
 "nbformat_minor": 1
}
